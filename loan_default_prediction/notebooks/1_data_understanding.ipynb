{
 "cells": [
  {
   "cell_type": "markdown",
   "metadata": {},
   "source": [
    "# Import packages"
   ]
  },
  {
   "cell_type": "code",
   "execution_count": 1,
   "metadata": {},
   "outputs": [],
   "source": [
    "import sys\n",
    "import os\n",
    "\n",
    "# Add the project root directory to sys.path\n",
    "project_root = os.path.abspath(\"..\")\n",
    "if project_root not in sys.path:\n",
    "    sys.path.insert(0, project_root)"
   ]
  },
  {
   "cell_type": "code",
   "execution_count": 2,
   "metadata": {},
   "outputs": [],
   "source": [
    "import pandas as pd \n",
    "import plotly.express as px\n",
    "import kaleido\n",
    "import os\n",
    "\n",
    "from src.constants import PATH_RAW_DATA, PATH_VISUALIZATION_EDA\n",
    "from src.data_cleaning import check_missing_values, check_outliers\n",
    "from src.visualization_functions import (\n",
    "    plot_histogram, plot_histogram_per_category, plot_boxplot, plot_boxplot_per_category, plot_violin, plot_violin_per_category,\n",
    "    plot_scatter,\n",
    "    plot_bar_frequency,\n",
    "    plot_bar_frequency_per_category,\n",
    "    plot_correlation_heatmap)"
   ]
  },
  {
   "cell_type": "markdown",
   "metadata": {},
   "source": [
    "# 1. Dataset"
   ]
  },
  {
   "cell_type": "markdown",
   "metadata": {},
   "source": [
    "## 1.1. Read data"
   ]
  },
  {
   "cell_type": "code",
   "execution_count": 3,
   "metadata": {},
   "outputs": [],
   "source": [
    "df = pd.read_csv(PATH_RAW_DATA, encoding='ISO-8859-1')"
   ]
  },
  {
   "cell_type": "code",
   "execution_count": 8,
   "metadata": {},
   "outputs": [
    {
     "data": {
      "text/html": [
       "<div>\n",
       "<style scoped>\n",
       "    .dataframe tbody tr th:only-of-type {\n",
       "        vertical-align: middle;\n",
       "    }\n",
       "\n",
       "    .dataframe tbody tr th {\n",
       "        vertical-align: top;\n",
       "    }\n",
       "\n",
       "    .dataframe thead th {\n",
       "        text-align: right;\n",
       "    }\n",
       "</style>\n",
       "<table border=\"1\" class=\"dataframe\">\n",
       "  <thead>\n",
       "    <tr style=\"text-align: right;\">\n",
       "      <th></th>\n",
       "      <th>id</th>\n",
       "      <th>address</th>\n",
       "      <th>amount</th>\n",
       "      <th>annual_income</th>\n",
       "      <th>application_type</th>\n",
       "      <th>date_funded</th>\n",
       "      <th>debt_to_income</th>\n",
       "      <th>earliest_cr_line</th>\n",
       "      <th>emp_length</th>\n",
       "      <th>emp_title</th>\n",
       "      <th>...</th>\n",
       "      <th>num_mortgages</th>\n",
       "      <th>num_open_credit</th>\n",
       "      <th>num_records</th>\n",
       "      <th>num_total_credit</th>\n",
       "      <th>purpose</th>\n",
       "      <th>revol_balance</th>\n",
       "      <th>revol_util</th>\n",
       "      <th>sub_grade</th>\n",
       "      <th>term</th>\n",
       "      <th>default</th>\n",
       "    </tr>\n",
       "  </thead>\n",
       "  <tbody>\n",
       "    <tr>\n",
       "      <th>0</th>\n",
       "      <td>135197</td>\n",
       "      <td>PSC 7791, Box 3858\\r\\r\\nAPO AA 93700</td>\n",
       "      <td>13700</td>\n",
       "      <td>45000.0</td>\n",
       "      <td>INDIVIDUAL</td>\n",
       "      <td>Jun-2014</td>\n",
       "      <td>12.32</td>\n",
       "      <td>Aug-2000</td>\n",
       "      <td>5 years</td>\n",
       "      <td>financial analyst</td>\n",
       "      <td>...</td>\n",
       "      <td>4.0</td>\n",
       "      <td>8</td>\n",
       "      <td>0.0</td>\n",
       "      <td>23.0</td>\n",
       "      <td>debt_consolidation</td>\n",
       "      <td>11751</td>\n",
       "      <td>56.0</td>\n",
       "      <td>C2</td>\n",
       "      <td>60 months</td>\n",
       "      <td>1</td>\n",
       "    </tr>\n",
       "    <tr>\n",
       "      <th>1</th>\n",
       "      <td>277103</td>\n",
       "      <td>502 Barrera Dam\\r\\r\\nBlackbury, OR 00813</td>\n",
       "      <td>10000</td>\n",
       "      <td>NaN</td>\n",
       "      <td>INDIVIDUAL</td>\n",
       "      <td>Aug-2015</td>\n",
       "      <td>3.56</td>\n",
       "      <td>Dec-1997</td>\n",
       "      <td>10+ years</td>\n",
       "      <td>secretary/Fingerprinting Technician</td>\n",
       "      <td>...</td>\n",
       "      <td>0.0</td>\n",
       "      <td>5</td>\n",
       "      <td>1.0</td>\n",
       "      <td>10.0</td>\n",
       "      <td>credit_card</td>\n",
       "      <td>7092</td>\n",
       "      <td>34.4</td>\n",
       "      <td>B1</td>\n",
       "      <td>36 months</td>\n",
       "      <td>0</td>\n",
       "    </tr>\n",
       "    <tr>\n",
       "      <th>2</th>\n",
       "      <td>384924</td>\n",
       "      <td>22486 Leonard Views Suite 601\\r\\r\\nSouth Thoma...</td>\n",
       "      <td>10000</td>\n",
       "      <td>47620.0</td>\n",
       "      <td>INDIVIDUAL</td>\n",
       "      <td>Aug-2012</td>\n",
       "      <td>16.25</td>\n",
       "      <td>Apr-2002</td>\n",
       "      <td>9 years</td>\n",
       "      <td>City of Hillsboro</td>\n",
       "      <td>...</td>\n",
       "      <td>3.0</td>\n",
       "      <td>5</td>\n",
       "      <td>0.0</td>\n",
       "      <td>8.0</td>\n",
       "      <td>debt_consolidation</td>\n",
       "      <td>8343</td>\n",
       "      <td>92.7</td>\n",
       "      <td>C4</td>\n",
       "      <td>36 months</td>\n",
       "      <td>0</td>\n",
       "    </tr>\n",
       "    <tr>\n",
       "      <th>3</th>\n",
       "      <td>181727</td>\n",
       "      <td>22309 Gould Freeway Apt. 620\\r\\r\\nLynnberg, MT...</td>\n",
       "      <td>10000</td>\n",
       "      <td>26000.0</td>\n",
       "      <td>INDIVIDUAL</td>\n",
       "      <td>May-2014</td>\n",
       "      <td>6.60</td>\n",
       "      <td>Oct-1999</td>\n",
       "      <td>3 years</td>\n",
       "      <td>RPW</td>\n",
       "      <td>...</td>\n",
       "      <td>7.0</td>\n",
       "      <td>11</td>\n",
       "      <td>0.0</td>\n",
       "      <td>31.0</td>\n",
       "      <td>home_improvement</td>\n",
       "      <td>1408</td>\n",
       "      <td>8.2</td>\n",
       "      <td>C2</td>\n",
       "      <td>60 months</td>\n",
       "      <td>1</td>\n",
       "    </tr>\n",
       "    <tr>\n",
       "      <th>4</th>\n",
       "      <td>148886</td>\n",
       "      <td>27523 Chad Flats Suite 920\\r\\r\\nEast Nathanlan...</td>\n",
       "      <td>23300</td>\n",
       "      <td>119000.0</td>\n",
       "      <td>INDIVIDUAL</td>\n",
       "      <td>Jan-2016</td>\n",
       "      <td>22.53</td>\n",
       "      <td>Feb-2003</td>\n",
       "      <td>8 years</td>\n",
       "      <td>Manager</td>\n",
       "      <td>...</td>\n",
       "      <td>2.0</td>\n",
       "      <td>11</td>\n",
       "      <td>0.0</td>\n",
       "      <td>43.0</td>\n",
       "      <td>debt_consolidation</td>\n",
       "      <td>51887</td>\n",
       "      <td>78.6</td>\n",
       "      <td>E3</td>\n",
       "      <td>60 months</td>\n",
       "      <td>0</td>\n",
       "    </tr>\n",
       "  </tbody>\n",
       "</table>\n",
       "<p>5 rows × 26 columns</p>\n",
       "</div>"
      ],
      "text/plain": [
       "       id                                            address  amount  \\\n",
       "0  135197               PSC 7791, Box 3858\\r\\r\\nAPO AA 93700   13700   \n",
       "1  277103           502 Barrera Dam\\r\\r\\nBlackbury, OR 00813   10000   \n",
       "2  384924  22486 Leonard Views Suite 601\\r\\r\\nSouth Thoma...   10000   \n",
       "3  181727  22309 Gould Freeway Apt. 620\\r\\r\\nLynnberg, MT...   10000   \n",
       "4  148886  27523 Chad Flats Suite 920\\r\\r\\nEast Nathanlan...   23300   \n",
       "\n",
       "   annual_income application_type date_funded  debt_to_income  \\\n",
       "0        45000.0       INDIVIDUAL    Jun-2014           12.32   \n",
       "1            NaN       INDIVIDUAL    Aug-2015            3.56   \n",
       "2        47620.0       INDIVIDUAL    Aug-2012           16.25   \n",
       "3        26000.0       INDIVIDUAL    May-2014            6.60   \n",
       "4       119000.0       INDIVIDUAL    Jan-2016           22.53   \n",
       "\n",
       "  earliest_cr_line emp_length                            emp_title  ...  \\\n",
       "0         Aug-2000    5 years                    financial analyst  ...   \n",
       "1         Dec-1997  10+ years  secretary/Fingerprinting Technician  ...   \n",
       "2         Apr-2002    9 years                    City of Hillsboro  ...   \n",
       "3         Oct-1999    3 years                                  RPW  ...   \n",
       "4         Feb-2003    8 years                              Manager  ...   \n",
       "\n",
       "  num_mortgages num_open_credit num_records  num_total_credit  \\\n",
       "0           4.0               8         0.0              23.0   \n",
       "1           0.0               5         1.0              10.0   \n",
       "2           3.0               5         0.0               8.0   \n",
       "3           7.0              11         0.0              31.0   \n",
       "4           2.0              11         0.0              43.0   \n",
       "\n",
       "              purpose  revol_balance  revol_util  sub_grade        term  \\\n",
       "0  debt_consolidation          11751        56.0         C2   60 months   \n",
       "1         credit_card           7092        34.4         B1   36 months   \n",
       "2  debt_consolidation           8343        92.7         C4   36 months   \n",
       "3    home_improvement           1408         8.2         C2   60 months   \n",
       "4  debt_consolidation          51887        78.6         E3   60 months   \n",
       "\n",
       "   default  \n",
       "0        1  \n",
       "1        0  \n",
       "2        0  \n",
       "3        1  \n",
       "4        0  \n",
       "\n",
       "[5 rows x 26 columns]"
      ]
     },
     "execution_count": 8,
     "metadata": {},
     "output_type": "execute_result"
    }
   ],
   "source": [
    "df.head()"
   ]
  },
  {
   "cell_type": "markdown",
   "metadata": {},
   "source": [
    "## 1.2. DataFrame info"
   ]
  },
  {
   "cell_type": "code",
   "execution_count": 4,
   "metadata": {},
   "outputs": [
    {
     "data": {
      "text/plain": [
       "(70954, 26)"
      ]
     },
     "execution_count": 4,
     "metadata": {},
     "output_type": "execute_result"
    }
   ],
   "source": [
    "# Shape\n",
    "df.shape"
   ]
  },
  {
   "cell_type": "code",
   "execution_count": 5,
   "metadata": {},
   "outputs": [
    {
     "name": "stdout",
     "output_type": "stream",
     "text": [
      "<class 'pandas.core.frame.DataFrame'>\n",
      "RangeIndex: 70954 entries, 0 to 70953\n",
      "Data columns (total 26 columns):\n",
      " #   Column               Non-Null Count  Dtype  \n",
      "---  ------               --------------  -----  \n",
      " 0   id                   70954 non-null  int64  \n",
      " 1   address              70954 non-null  object \n",
      " 2   amount               70954 non-null  int64  \n",
      " 3   annual_income        66492 non-null  float64\n",
      " 4   application_type     70954 non-null  object \n",
      " 5   date_funded          70954 non-null  object \n",
      " 6   debt_to_income       70954 non-null  float64\n",
      " 7   earliest_cr_line     70954 non-null  object \n",
      " 8   emp_length           66363 non-null  object \n",
      " 9   emp_title            66898 non-null  object \n",
      " 10  grade                70954 non-null  object \n",
      " 11  home_status          53171 non-null  object \n",
      " 12  income_verif_status  70954 non-null  object \n",
      " 13  interest_rate        70954 non-null  float64\n",
      " 14  monthly_payment      68441 non-null  float64\n",
      " 15  num_bankrupts        66284 non-null  float64\n",
      " 16  num_mortgages        64868 non-null  float64\n",
      " 17  num_open_credit      70954 non-null  int64  \n",
      " 18  num_records          66384 non-null  float64\n",
      " 19  num_total_credit     68916 non-null  float64\n",
      " 20  purpose              70954 non-null  object \n",
      " 21  revol_balance        70954 non-null  int64  \n",
      " 22  revol_util           69627 non-null  float64\n",
      " 23  sub_grade            70954 non-null  object \n",
      " 24  term                 70954 non-null  object \n",
      " 25  default              70954 non-null  int64  \n",
      "dtypes: float64(9), int64(5), object(12)\n",
      "memory usage: 14.1+ MB\n"
     ]
    }
   ],
   "source": [
    "# Info\n",
    "df.info()"
   ]
  },
  {
   "cell_type": "markdown",
   "metadata": {},
   "source": [
    "# 2. Univariate Analysis"
   ]
  },
  {
   "cell_type": "code",
   "execution_count": 6,
   "metadata": {},
   "outputs": [],
   "source": [
    "# Split numerical and categorical columns\n",
    "numerical_columns = ['amount', 'annual_income', 'debt_to_income', 'interest_rate', 'monthly_payment', 'num_bankrupts', \n",
    "                     'num_mortgages', 'num_open_credit', 'num_records', 'num_total_credit',  'revol_balance', 'revol_util']\n",
    "categorical_columns = ['application_type', 'emp_length', 'grade', 'home_status', 'income_verif_status', \n",
    "                       'purpose', 'sub_grade', 'term']\n",
    "other_columns = ['id', 'address', 'emp_title', 'date_funded', 'earliest_cr_line']"
   ]
  },
  {
   "cell_type": "markdown",
   "metadata": {},
   "source": [
    "## 2.1. Numerical data"
   ]
  },
  {
   "cell_type": "markdown",
   "metadata": {},
   "source": [
    "### 2.1.1. Summary statistics"
   ]
  },
  {
   "cell_type": "markdown",
   "metadata": {},
   "source": [
    "### 2.1.2. Histogram"
   ]
  },
  {
   "cell_type": "code",
   "execution_count": 7,
   "metadata": {},
   "outputs": [],
   "source": [
    "# Plot histogram for each column\n",
    "for col in numerical_columns:\n",
    "    plot_histogram(df, col, True)"
   ]
  },
  {
   "cell_type": "markdown",
   "metadata": {},
   "source": [
    "### 2.1.3. Boxplot"
   ]
  },
  {
   "cell_type": "code",
   "execution_count": 8,
   "metadata": {},
   "outputs": [],
   "source": [
    "for col in numerical_columns:\n",
    "    plot_boxplot(df, col, True)"
   ]
  },
  {
   "cell_type": "markdown",
   "metadata": {},
   "source": [
    "## 2.2. Categorical Data"
   ]
  },
  {
   "cell_type": "code",
   "execution_count": 9,
   "metadata": {},
   "outputs": [
    {
     "name": "stdout",
     "output_type": "stream",
     "text": [
      "Column: application_type\n",
      "application_type\n",
      "INDIVIDUAL    70813\n",
      "DIRECT_PAY       75\n",
      "JOINT            66\n",
      "Name: count, dtype: int64\n",
      "Number of unique values: 3\n",
      "\n",
      "Column: emp_length\n",
      "emp_length\n",
      "10+ years    22183\n",
      "2 years       6160\n",
      "< 1 year      5648\n",
      "3 years       5516\n",
      "5 years       4729\n",
      "1 year        4494\n",
      "4 years       4287\n",
      "7 years       3712\n",
      "6 years       3659\n",
      "8 years       3296\n",
      "9 years       2679\n",
      "Name: count, dtype: int64\n",
      "Number of unique values: 11\n",
      "\n",
      "Column: grade\n",
      "grade\n",
      "C    25880\n",
      "D    15463\n",
      "B    14317\n",
      "E     7685\n",
      "A     3915\n",
      "F     2975\n",
      "G      719\n",
      "Name: count, dtype: int64\n",
      "Number of unique values: 7\n",
      "\n",
      "Column: home_status\n",
      "home_status\n",
      "MORTGAGE    25818\n",
      "RENT        22185\n",
      "OWN          5147\n",
      "OTHER          15\n",
      "NONE            4\n",
      "ANY             2\n",
      "Name: count, dtype: int64\n",
      "Number of unique values: 6\n",
      "\n",
      "Column: income_verif_status\n",
      "income_verif_status\n",
      "Verified           26969\n",
      "Source Verified    24059\n",
      "Not Verified       19926\n",
      "Name: count, dtype: int64\n",
      "Number of unique values: 3\n",
      "\n",
      "Column: purpose\n",
      "purpose\n",
      "debt_consolidation    43388\n",
      "credit_card           13209\n",
      "other                  4147\n",
      "home_improvement       4082\n",
      "major_purchase         1478\n",
      "small_business         1179\n",
      "medical                 802\n",
      "car                     729\n",
      "moving                  598\n",
      "vacation                456\n",
      "house                   428\n",
      "wedding                 342\n",
      "renewable_energy         68\n",
      "educational              48\n",
      "Name: count, dtype: int64\n",
      "Number of unique values: 14\n",
      "\n",
      "Column: sub_grade\n",
      "sub_grade\n",
      "C1    5817\n",
      "C2    5581\n",
      "C3    5027\n",
      "C4    4900\n",
      "C5    4555\n",
      "D1    3934\n",
      "B3    3363\n",
      "D2    3309\n",
      "B4    3184\n",
      "D3    2949\n",
      "D4    2866\n",
      "B2    2702\n",
      "B5    2688\n",
      "D5    2405\n",
      "B1    2380\n",
      "E1    1937\n",
      "E2    1766\n",
      "E3    1533\n",
      "E4    1320\n",
      "A5    1171\n",
      "E5    1129\n",
      "A4     920\n",
      "F1     917\n",
      "F2     684\n",
      "A3     636\n",
      "A2     615\n",
      "F3     578\n",
      "A1     573\n",
      "F4     435\n",
      "F5     361\n",
      "G1     243\n",
      "G2     170\n",
      "G3     129\n",
      "G4      96\n",
      "G5      81\n",
      "Name: count, dtype: int64\n",
      "Number of unique values: 35\n",
      "\n",
      "Column: term\n",
      "term\n",
      "36 months    49709\n",
      "60 months    21245\n",
      "Name: count, dtype: int64\n",
      "Number of unique values: 2\n",
      "\n"
     ]
    }
   ],
   "source": [
    "# Get unique values\n",
    "for col in categorical_columns:\n",
    "    print(f\"Column: {col}\")\n",
    "    print(df[col].value_counts())\n",
    "    print(f\"Number of unique values: {df[col].nunique()}\\n\")"
   ]
  },
  {
   "cell_type": "code",
   "execution_count": 10,
   "metadata": {},
   "outputs": [],
   "source": [
    "for col in categorical_columns:\n",
    "    plot_bar_frequency(df, col, True)"
   ]
  },
  {
   "cell_type": "markdown",
   "metadata": {},
   "source": [
    "# 3. Multivariate Analysis"
   ]
  },
  {
   "cell_type": "code",
   "execution_count": 13,
   "metadata": {},
   "outputs": [],
   "source": [
    "plot_correlation_heatmap(df[numerical_columns], True)"
   ]
  },
  {
   "cell_type": "markdown",
   "metadata": {},
   "source": [
    "# 4. Dependent variable"
   ]
  },
  {
   "cell_type": "code",
   "execution_count": 14,
   "metadata": {},
   "outputs": [],
   "source": [
    "# Check distribution default variable\n",
    "plot_bar_frequency(df, 'default', True)"
   ]
  },
  {
   "cell_type": "code",
   "execution_count": 15,
   "metadata": {},
   "outputs": [],
   "source": [
    "# Check numerical distributions per category\n",
    "for col in numerical_columns:\n",
    "    plot_boxplot_per_category(df, col, 'default', True)"
   ]
  },
  {
   "cell_type": "code",
   "execution_count": 16,
   "metadata": {},
   "outputs": [],
   "source": [
    "# Check frequency per category\n",
    "for col in categorical_columns:\n",
    "    plot_bar_frequency_per_category(df, col, 'default', True)"
   ]
  },
  {
   "cell_type": "markdown",
   "metadata": {},
   "source": [
    "# 5. Check missing values and outliers"
   ]
  },
  {
   "cell_type": "code",
   "execution_count": 4,
   "metadata": {},
   "outputs": [
    {
     "name": "stdout",
     "output_type": "stream",
     "text": [
      "Missing values:\n",
      "\n",
      "id: 0.0% (0/70954)\n",
      "address: 0.0% (0/70954)\n",
      "amount: 0.0% (0/70954)\n",
      "annual_income: 6.289% (4462/70954)\n",
      "application_type: 0.0% (0/70954)\n",
      "date_funded: 0.0% (0/70954)\n",
      "debt_to_income: 0.0% (0/70954)\n",
      "earliest_cr_line: 0.0% (0/70954)\n",
      "emp_length: 6.47% (4591/70954)\n",
      "emp_title: 5.716% (4056/70954)\n",
      "grade: 0.0% (0/70954)\n",
      "home_status: 25.063% (17783/70954)\n",
      "income_verif_status: 0.0% (0/70954)\n",
      "interest_rate: 0.0% (0/70954)\n",
      "monthly_payment: 3.542% (2513/70954)\n",
      "num_bankrupts: 6.582% (4670/70954)\n",
      "num_mortgages: 8.577% (6086/70954)\n",
      "num_open_credit: 0.0% (0/70954)\n",
      "num_records: 6.441% (4570/70954)\n",
      "num_total_credit: 2.872% (2038/70954)\n",
      "purpose: 0.0% (0/70954)\n",
      "revol_balance: 0.0% (0/70954)\n",
      "revol_util: 1.87% (1327/70954)\n",
      "sub_grade: 0.0% (0/70954)\n",
      "term: 0.0% (0/70954)\n",
      "default: 0.0% (0/70954)\n",
      "\n"
     ]
    }
   ],
   "source": [
    "# Null values\n",
    "check_missing_values(df)"
   ]
  },
  {
   "cell_type": "code",
   "execution_count": 7,
   "metadata": {},
   "outputs": [
    {
     "name": "stdout",
     "output_type": "stream",
     "text": [
      "Outliers:\n",
      "\n",
      "amount: 0.038% (27/70954)\n",
      "annual_income: 3.99% (2831/70954)\n",
      "debt_to_income: 0.089% (63/70954)\n",
      "interest_rate: 1.023% (726/70954)\n",
      "monthly_payment: 3.012% (2137/70954)\n",
      "num_bankrupts: 11.653% (8268/70954)\n",
      "num_mortgages: 1.672% (1186/70954)\n",
      "num_open_credit: 2.713% (1925/70954)\n",
      "num_records: 14.873% (10553/70954)\n",
      "num_total_credit: 1.649% (1170/70954)\n",
      "revol_balance: 5.192% (3684/70954)\n",
      "revol_util: 0.004% (3/70954)\n",
      "\n"
     ]
    }
   ],
   "source": [
    "# Outliers for num cols\n",
    "check_outliers(df[numerical_columns])"
   ]
  }
 ],
 "metadata": {
  "kernelspec": {
   "display_name": "loan-default-prediction-zhnqYuAJ-py3.12",
   "language": "python",
   "name": "python3"
  },
  "language_info": {
   "codemirror_mode": {
    "name": "ipython",
    "version": 3
   },
   "file_extension": ".py",
   "mimetype": "text/x-python",
   "name": "python",
   "nbconvert_exporter": "python",
   "pygments_lexer": "ipython3",
   "version": "3.12.5"
  }
 },
 "nbformat": 4,
 "nbformat_minor": 2
}
